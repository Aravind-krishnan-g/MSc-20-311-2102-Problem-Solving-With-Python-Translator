{
 "cells": [
  {
   "cell_type": "markdown",
   "metadata": {},
   "source": [
    "# LANGUAGE TRANSLATOR"
   ]
  },
  {
   "cell_type": "code",
   "execution_count": null,
   "metadata": {},
   "outputs": [],
   "source": [
    "# pip install translate"
   ]
  },
  {
   "cell_type": "markdown",
   "metadata": {},
   "source": [
    "## IMPORTING LIBRARIES"
   ]
  },
  {
   "cell_type": "markdown",
   "metadata": {},
   "source": [
    "Documentation for these libraries: [translate](https://translate-python.readthedocs.io/en/latest/) and [streamlit](https://docs.streamlit.io/en/stable/index.html)"
   ]
  },
  {
   "cell_type": "code",
   "execution_count": 1,
   "metadata": {},
   "outputs": [],
   "source": [
    "import streamlit as st # web application framework\n",
    "from translate import Translator # module for translating text data"
   ]
  },
  {
   "cell_type": "markdown",
   "metadata": {},
   "source": [
    "## MAIN CODE"
   ]
  },
  {
   "cell_type": "code",
   "execution_count": 6,
   "metadata": {},
   "outputs": [],
   "source": [
    "class translator:\n",
    "    \n",
    "    def __init__(self):\n",
    "        \n",
    "        # hard coding language names onto a list\n",
    "        self.collection = ['Afar', 'Abkhazian', 'Afrikaans', 'Akan', 'Albanian', 'Amharic', \n",
    "            'Arabic', 'Aragonese', 'Armenian', 'Assamese', 'Avaric', 'Avestan',\n",
    "            'Aymara', 'Azerbaijani', 'Bashkir', 'Bambara', 'Basque', 'Belarusian',\n",
    "            'Bengali', 'Bihari languages', 'Bislama', 'Tibetan', 'Bosnian',\n",
    "            'Breton', 'Bulgarian', 'Burmese', 'Catalan; Valencian', 'Czech',\n",
    "            'Chamorro', 'Chechen', 'Chinese',\n",
    "            'Church Slavic; Old Slavonic; Church Slavonic; Old Bulgarian; Old Church Slavonic',\n",
    "            'Chuvash', 'Cornish', 'Corsican', 'Cree', 'Welsh', 'Czech', 'Danish',\n",
    "            'German', 'Divehi; Dhivehi; Maldivian', 'Dutch; Flemish', 'Dzongkha',\n",
    "            'Greek, Modern (1453-)', 'English', 'Esperanto', 'Estonian', 'Basque',\n",
    "            'Ewe', 'Faroese', 'Persian', 'Fijian', 'Finnish', 'French', \n",
    "            'Western Frisian', 'Fulah', 'Georgian', 'German', 'Gaelic; Scottish Gaelic',\n",
    "            'Irish', 'Galician', 'Manx', 'Greek, Modern (1453-)', 'Guarani', 'Gujarati',\n",
    "            'Haitian; Haitian Creole', 'Hausa', 'Hebrew', 'Herero', 'Hindi', \n",
    "            'Hiri Motu', 'Croatian', 'Hungarian', 'Armenian', 'Igbo', 'Icelandic',\n",
    "            'Ido', 'Sichuan Yi; Nuosu', 'Inuktitut', 'Interlingue; Occidental',\n",
    "            'Interlingua (International Auxiliary Language Association)',\n",
    "            'Indonesian', 'Inupiaq', 'Icelandic', 'Italian', 'Javanese', 'Japanese',\n",
    "            'Kalaallisut; Greenlandic', 'Kannada', 'Kashmiri', 'Georgian', 'Kanuri',\n",
    "            'Kazakh', 'Central Khmer', 'Kikuyu; Gikuyu', 'Kinyarwanda', 'Kirghiz; Kyrgyz',\n",
    "            'Komi', 'Kongo', 'Korean', 'Kuanyama; Kwanyama', 'Kurdish', 'Lao',\n",
    "            'Latin', 'Latvian', 'Limburgan; Limburger; Limburgish', 'Lingala',\n",
    "            'Lithuanian', 'Luxembourgish; Letzeburgesch', 'Luba-Katanga', 'Ganda',\n",
    "            'Macedonian', 'Marshallese', 'Malayalam', 'Maori', 'Marathi', 'Malay',\n",
    "            'Micmac', 'Macedonian', 'Malagasy', 'Maltese', 'Mongolian', 'Maori',\n",
    "            'Malay', 'Burmese', 'Nauru', 'Navajo; Navaho', 'Ndebele, South; South Ndebele',\n",
    "            'Ndebele, North; North Ndebele', 'Ndonga', 'Nepali', 'Dutch; Flemish',\n",
    "            'Norwegian Nynorsk; Nynorsk, Norwegian', 'Bokmål, Norwegian; Norwegian Bokmål',\n",
    "            'Norwegian', 'Occitan (post 1500)', 'Ojibwa', 'Oriya', 'Oromo',\n",
    "            'Ossetian; Ossetic', 'Panjabi; Punjabi', 'Persian', 'Pali','Polish',\n",
    "            'Portuguese', 'Pushto; Pashto', 'Quechua', 'Romansh',\n",
    "            'Romanian; Moldavian; Moldovan', 'Romanian; Moldavian; Moldovan', 'Rundi',\n",
    "            'Russian', 'Sango', 'Sanskrit', 'Sinhala; Sinhalese', 'Slovak', 'Slovak',\n",
    "            'Slovenian', 'Northern Sami', 'Samoan', 'Shona', 'Sindhi', 'Somali', 'Sotho, Southern',\n",
    "            'Spanish; Castilian', 'Albanian', 'Sardinian', 'Serbian', 'Swati', 'Sundanese',\n",
    "            'Swahili', 'Swedish', 'Tahitian', 'Tamil', 'Tatar', 'Telugu', 'Tajik', 'Tagalog',\n",
    "            'Thai', 'Tibetan', 'Tigrinya', 'Tonga (Tonga Islands)', 'Tswana', 'Tsonga',\n",
    "            'Turkmen', 'Turkish', 'Twi', 'Uighur; Uyghur', 'Ukrainian', 'Urdu', 'Uzbek',\n",
    "            'Venda', 'Vietnamese', 'Volapük', 'Welsh', 'Walloon', 'Wolof', 'Xhosa',\n",
    "            'Yiddish', 'Yoruba', 'Zhuang; Chuang', 'ulu' ]\n",
    "        \n",
    "    # display code containing streamlit methods\n",
    "    def display(self):\n",
    "        \n",
    "        st.title(\"Language Translator Web Application\") # setting title for web app\n",
    "        exp= st.beta_expander(\"About\") # 'About' section contains details about the project\n",
    "        exp.write(\"This web application was developed using [translate](https://translate-python.readthedocs.io/en/latest/) and [streamlit](https://docs.streamlit.io/en/stable/index.html) web application framework.\")\n",
    "        exp.write(\"This project was done as a part of Msc-Problem solving with python course.\")\n",
    "        exp.write(\"You can check out the work at [github]()\")\n",
    "        \n",
    "        txt=st.text_area(\"Enter the text to be translator (No need to mention source language)\")\n",
    "                \n",
    "        if(txt): # checking whether text data was entered\n",
    "            option = st.selectbox(\"Select language you want to translate into\",self.collection) # set langauge\n",
    "            if(option): # checking whether language has been picked\n",
    "                if (st.button(\"Translate\")): # button to start translation\n",
    "                    translator= Translator(to_lang=option) #creating object\n",
    "                    try:\n",
    "                        with st.spinner('Translating.....'):\n",
    "                            translation = translator.translate(txt) #translating text\n",
    "                        st.write(translation) # displaying the output\n",
    "                    except:\n",
    "                        st.error('Error occured. Please input a different text or try another language!')\n",
    "\n",
    "                "
   ]
  },
  {
   "cell_type": "markdown",
   "metadata": {},
   "source": [
    "## DRIVER CODE"
   ]
  },
  {
   "cell_type": "code",
   "execution_count": 7,
   "metadata": {},
   "outputs": [],
   "source": [
    "\n",
    "class_object = translator() # creating class object\n",
    "class_object.display() # running web application "
   ]
  }
 ],
 "metadata": {
  "kernelspec": {
   "display_name": "Python 3",
   "language": "python",
   "name": "python3"
  },
  "language_info": {
   "codemirror_mode": {
    "name": "ipython",
    "version": 3
   },
   "file_extension": ".py",
   "mimetype": "text/x-python",
   "name": "python",
   "nbconvert_exporter": "python",
   "pygments_lexer": "ipython3",
   "version": "3.8.3"
  }
 },
 "nbformat": 4,
 "nbformat_minor": 4
}
